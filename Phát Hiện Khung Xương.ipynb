{
 "cells": [
  {
   "cell_type": "code",
   "execution_count": 7,
   "metadata": {},
   "outputs": [],
   "source": [
    "import cv2\n",
    "# The PoseDetector model you're referring to is likely a neural network model trained specifically for detecting and estimating human pose from images or videos. \n",
    "from cvzone.PoseModule import PoseDetector\n",
    "\n",
    "cap = cv2.VideoCapture(\"data/dance.mp4\")\n",
    "\n",
    "detector = PoseDetector()\n",
    "\n",
    "while True:\n",
    "    _, frame = cap.read()\n",
    "    frame = detector.findPose(frame)\n",
    "    _, bound = detector.findPosition(frame, bboxWithHands=False)\n",
    "    \n",
    "    frame = cv2.resize(frame, (frame.shape[1]//2, frame.shape[0]//2))\n",
    "    cv2.imshow(\"image\", frame)\n",
    "    if cv2.waitKey(1) & 0xFF == ord(\"q\"):\n",
    "        break\n",
    "\n",
    "cap.release()\n",
    "cv2.destroyAllWindows()"
   ]
  }
 ],
 "metadata": {
  "kernelspec": {
   "display_name": "base",
   "language": "python",
   "name": "python3"
  },
  "language_info": {
   "codemirror_mode": {
    "name": "ipython",
    "version": 3
   },
   "file_extension": ".py",
   "mimetype": "text/x-python",
   "name": "python",
   "nbconvert_exporter": "python",
   "pygments_lexer": "ipython3",
   "version": "3.11.5"
  }
 },
 "nbformat": 4,
 "nbformat_minor": 2
}
