{
 "cells": [
  {
   "cell_type": "markdown",
   "metadata": {},
   "source": [
    "#### Vẽ đường thẳng\n",
    "Syntax: cv2.line(img, start_point, end_point, color, thickness)\n",
    "\n",
    "thinkness: độ dày (px)"
   ]
  },
  {
   "cell_type": "code",
   "execution_count": 5,
   "metadata": {},
   "outputs": [],
   "source": [
    "import cv2\n",
    "\n",
    "path = r\"data\\RGB.png\"\n",
    "\n",
    "img = cv2.imread(path)\n",
    "img = cv2.resize(img, (800, 800))\n",
    "\n",
    "start_point = (0,0)\n",
    "end_point = (100, 100)\n",
    "color = (0, 0, 255)\n",
    "thickness = 7\n",
    "img = cv2.line(img,start_point, end_point,color,thickness=thickness)\n",
    "\n",
    "cv2.imshow(\"Anh\", img)\n",
    "\n",
    "if cv2.waitKey(0) & 0xff == 27:\n",
    "    cv2.destroyAllWindows()"
   ]
  },
  {
   "cell_type": "markdown",
   "metadata": {},
   "source": [
    "### Vẽ đường tròn\n",
    "cv2.circle(img, centet_coordinates, radius, color, thickness)"
   ]
  },
  {
   "cell_type": "code",
   "execution_count": 7,
   "metadata": {},
   "outputs": [],
   "source": [
    "import cv2\n",
    "\n",
    "path = r\"data\\RGB.png\"\n",
    "\n",
    "img = cv2.imread(path)\n",
    "img = cv2.resize(img, (800, 800))\n",
    "\n",
    "center = (100, 100)\n",
    "radius = 30\n",
    "color = (0, 255, 255)\n",
    "thickness = 7\n",
    "img = cv2.circle(img,center, radius,color,thickness=thickness)\n",
    "\n",
    "cv2.imshow(\"Anh\", img)\n",
    "\n",
    "if cv2.waitKey(0) & 0xff == 27:\n",
    "    cv2.destroyAllWindows()"
   ]
  },
  {
   "cell_type": "markdown",
   "metadata": {},
   "source": [
    "### Vẽ hcn\n",
    "Syntax: cv2.rectangle(img, start_point, end_point, color, thickness)\n",
    "\n",
    "\n",
    "start and end là 2 điểm đầu cuối của đường chéo"
   ]
  },
  {
   "cell_type": "code",
   "execution_count": 9,
   "metadata": {},
   "outputs": [],
   "source": [
    "import cv2\n",
    "\n",
    "path = r\"data\\RGB.png\"\n",
    "\n",
    "img = cv2.imread(path)\n",
    "img = cv2.resize(img, (800, 800))\n",
    "\n",
    "start_point = (0,0)\n",
    "end_point = (100, 300)\n",
    "color = (0, 255, 200)\n",
    "thickness = 7\n",
    "img = cv2.rectangle(img,start_point, end_point,color,thickness=thickness)\n",
    "\n",
    "cv2.imshow(\"Anh\", img)\n",
    "\n",
    "if cv2.waitKey(0) & 0xff == 27:\n",
    "    cv2.destroyAllWindows()"
   ]
  },
  {
   "cell_type": "markdown",
   "metadata": {},
   "source": [
    "### Viết text\n",
    "\n",
    "cv2.putText(img, text, org, font, fontScale, color[, thickness [, lineType[, bottomlLeftOrigin]]])\n",
    "\n",
    "org: trục đáy, tọa độ đáy\n",
    "\n",
    "fontScale: phóng to chữ"
   ]
  },
  {
   "cell_type": "code",
   "execution_count": 14,
   "metadata": {},
   "outputs": [],
   "source": [
    "import cv2\n",
    "\n",
    "path = r\"data\\RGB.png\"\n",
    "\n",
    "img = cv2.imread(path)\n",
    "img = cv2.resize(img, (800, 800))\n",
    "\n",
    "font = cv2.FONT_HERSHEY_SIMPLEX\n",
    "org = (30, 30)\n",
    "fontScale = 2\n",
    "color = (100, 100, 100)\n",
    "thickness = 3\n",
    "img = cv2.putText(img, \"xin chao\", org,font,  fontScale, color, thickness)\n",
    "\n",
    "cv2.imshow(\"Anh\", img)\n",
    "\n",
    "if cv2.waitKey(0) & 0xff == 27:\n",
    "    cv2.destroyAllWindows()\n"
   ]
  }
 ],
 "metadata": {
  "kernelspec": {
   "display_name": "base",
   "language": "python",
   "name": "python3"
  },
  "language_info": {
   "codemirror_mode": {
    "name": "ipython",
    "version": 3
   },
   "file_extension": ".py",
   "mimetype": "text/x-python",
   "name": "python",
   "nbconvert_exporter": "python",
   "pygments_lexer": "ipython3",
   "version": "3.11.5"
  }
 },
 "nbformat": 4,
 "nbformat_minor": 2
}
