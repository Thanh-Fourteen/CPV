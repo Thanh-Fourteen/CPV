{
 "cells": [
  {
   "cell_type": "markdown",
   "metadata": {},
   "source": [
    "### Template matching\n",
    "\n",
    "lấy tấm ảnh cần so sanh, dịch từng px và tìm. Thế nên nhược điểm là k tìm đc\n",
    "khi ảnh xoay, phòng to,..."
   ]
  },
  {
   "cell_type": "markdown",
   "metadata": {},
   "source": [
    "### Một số hàm\n",
    "eval(expression, [ globals[, locals]]): Hàm đánh giá, chạy hàm trong chuỗi"
   ]
  },
  {
   "cell_type": "code",
   "execution_count": 1,
   "metadata": {},
   "outputs": [
    {
     "name": "stdout",
     "output_type": "stream",
     "text": [
      "10\n"
     ]
    }
   ],
   "source": [
    "x = 10\n",
    "print(x)"
   ]
  },
  {
   "cell_type": "code",
   "execution_count": 2,
   "metadata": {},
   "outputs": [
    {
     "name": "stdout",
     "output_type": "stream",
     "text": [
      "10\n"
     ]
    }
   ],
   "source": [
    "a = print(x)"
   ]
  },
  {
   "cell_type": "code",
   "execution_count": 3,
   "metadata": {},
   "outputs": [],
   "source": [
    "a = \"print(x)\""
   ]
  },
  {
   "cell_type": "code",
   "execution_count": 4,
   "metadata": {},
   "outputs": [
    {
     "name": "stdout",
     "output_type": "stream",
     "text": [
      "10\n"
     ]
    }
   ],
   "source": [
    "eval(a)"
   ]
  },
  {
   "cell_type": "markdown",
   "metadata": {},
   "source": [
    "### HÀm matchTemplate()\n",
    "\n",
    "cv2.matchTemplate(image, templ, method[, result[, mask]]): \n",
    "\n",
    "![\"Method](data/method_eval.png)"
   ]
  },
  {
   "cell_type": "code",
   "execution_count": 9,
   "metadata": {},
   "outputs": [],
   "source": [
    "import cv2\n",
    "\n",
    "s_img = cv2.imread(\"data\\\\testImread.png\")\n",
    "s_img = cv2.cvtColor(s_img, cv2.COLOR_BGR2GRAY)\n",
    "\n",
    "t_img = cv2.imread(\"data\\\\cut.png\")\n",
    "t_img = cv2.cvtColor(t_img, cv2.COLOR_BGR2GRAY)\n",
    "\n",
    "method = eval(\"cv2.TM_CCOEFF\")\n",
    "s_img_copy = s_img.copy()\n",
    "res = cv2.matchTemplate(s_img_copy, t_img, method)\n",
    "\n",
    "# cv2.imshow(\"Anh full\", s_img)\n",
    "# cv2.imshow(\"Anh cut\", t_img)\n",
    "\n",
    "cv2.imshow(\"Anh full\", res)\n",
    "\n",
    "if cv2.waitKey(0) & 0xff == 27:\n",
    "    cv2.destroyAllWindows()\n"
   ]
  },
  {
   "cell_type": "markdown",
   "metadata": {},
   "source": [
    "### minMaxLoc()\n",
    "\n",
    "cv2.minMaxLoc(src[, mask]) -> minVal, maxVal, minLoc, maxLoc"
   ]
  },
  {
   "cell_type": "code",
   "execution_count": 14,
   "metadata": {},
   "outputs": [],
   "source": [
    "import cv2\n",
    "\n",
    "s_img = cv2.imread(\"data\\\\testImread.png\")\n",
    "s_img = cv2.cvtColor(s_img, cv2.COLOR_BGR2GRAY)\n",
    "\n",
    "t_img = cv2.imread(\"data\\\\cut.png\")\n",
    "t_img = cv2.cvtColor(t_img, cv2.COLOR_BGR2GRAY)\n",
    "\n",
    "method = eval(\"cv2.TM_CCOEFF\")\n",
    "s_img_copy = s_img.copy()\n",
    "res = cv2.matchTemplate(s_img_copy, t_img, method)\n",
    "\n",
    "# xác định và vẽ\n",
    "min_val, max_val, min_loc, max_loc = cv2.minMaxLoc(res)\n",
    "if method in (cv2.TM_SQDIFF_NORMED, cv2.TM_SQDIFF):\n",
    "    top_left = min_loc\n",
    "else:\n",
    "    top_left = max_loc\n",
    "\n",
    "height, width = t_img.shape\n",
    "bottom_right = (top_left[0] + width, top_left[1] + height)\n",
    "cv2.rectangle(s_img, top_left, bottom_right, (255, 0, 0), 3)\n",
    "\n",
    "s_img = cv2.resize(s_img, (600, 400))\n",
    "cv2.imshow(\"Anh full\", s_img)\n",
    "# cv2.imshow(\"Anh cut\", t_img)\n",
    "\n",
    "# cv2.imshow(\"Anh full\", res)\n",
    "\n",
    "if cv2.waitKey(0) & 0xff == 27:\n",
    "    cv2.destroyAllWindows()\n"
   ]
  },
  {
   "cell_type": "code",
   "execution_count": 24,
   "metadata": {},
   "outputs": [],
   "source": [
    "import cv2\n",
    "\n",
    "s_img = cv2.imread(\"data\\\\testImread.png\")\n",
    "s_img = cv2.cvtColor(s_img, cv2.COLOR_BGR2GRAY)\n",
    "\n",
    "\n",
    "t_img = cv2.imread(\"data\\\\cut.png\")\n",
    "t_img = cv2.cvtColor(t_img, cv2.COLOR_BGR2GRAY)\n",
    "\n",
    "method = eval(\"cv2.TM_CCOEFF\")\n",
    "s_img_copy = s_img.copy()\n",
    "res = cv2.matchTemplate(s_img_copy, t_img, method)\n",
    "\n",
    "_, __, min_loc, max_loc = cv2.minMaxLoc(res)\n",
    "\n",
    "height, width = t_img.shape\n",
    "if method in (cv2.TM_SQDIFF_NORMED, cv2.TM_SQDIFF):\n",
    "    top_left = min_loc\n",
    "else:\n",
    "    top_left = max_loc\n",
    "\n",
    "bottom_right = (top_left[1] + width, top_left[0] + height)\n",
    "cv2.rectangle(s_img, top_left, bottom_right, (200, 150, 100), 5)\n",
    "\n",
    "s_img = cv2.resize(s_img, (600, 800))\n",
    "cv2.imshow(\"picture 1\", s_img)\n",
    "# cv2.imshow(\"picture 2\", t_img)\n",
    "\n",
    "if cv2.waitKey() & 0xff == 27:\n",
    "    cv2.destroyAllWindows()"
   ]
  }
 ],
 "metadata": {
  "kernelspec": {
   "display_name": "base",
   "language": "python",
   "name": "python3"
  },
  "language_info": {
   "codemirror_mode": {
    "name": "ipython",
    "version": 3
   },
   "file_extension": ".py",
   "mimetype": "text/x-python",
   "name": "python",
   "nbconvert_exporter": "python",
   "pygments_lexer": "ipython3",
   "version": "3.11.5"
  }
 },
 "nbformat": 4,
 "nbformat_minor": 2
}
