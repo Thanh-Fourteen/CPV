{
 "cells": [
  {
   "cell_type": "markdown",
   "metadata": {},
   "source": [
    "### Không gian màu"
   ]
  },
  {
   "cell_type": "markdown",
   "metadata": {},
   "source": [
    "#### không gian màu RGB\n",
    "\n",
    "Màu mạc định của máy. Mỗi kênh màu R, G, B sẽ sử dụng 8 bit để biểu diễn gtri \n",
    "từ 0 đền 255. Số lượng màu tối đa 255 * 255 * 255 = 16581375"
   ]
  },
  {
   "cell_type": "markdown",
   "metadata": {},
   "source": [
    "#### Không gian màu HSV\n",
    "H: (Hue): vùng màu\n",
    "\n",
    "S: (Saturation) Độ bão hòa\n",
    "\n",
    "V: (Value): độ sáng\n",
    "\n",
    "Ứng dụng lớn nhất: lọc màu"
   ]
  },
  {
   "cell_type": "code",
   "execution_count": 16,
   "metadata": {},
   "outputs": [
    {
     "name": "stdout",
     "output_type": "stream",
     "text": [
      "Image 1 shape: (2048, 2009, 3)\n"
     ]
    }
   ],
   "source": [
    "import cv2\n",
    "import numpy as np\n",
    "\n",
    "path = r\"data\\RGB.png\"\n",
    "\n",
    "img = cv2.imread(path)\n",
    "print(\"Image 1 shape:\", img.shape)\n",
    "B, G, R = cv2.split(img)\n",
    "\n",
    "# Resize các ảnh để chúng có cùng kích thước\n",
    "width, height = 600, 400  # Thay đổi kích thước theo ý muốn\n",
    "img = cv2.resize(img, (width, height))\n",
    "R = cv2.resize(R, (width, height))\n",
    "G = cv2.resize(G, (width, height))\n",
    "B = cv2.resize(B, (width, height))\n",
    "\n",
    "# # Kiểm tra số chiều của mỗi ảnh\n",
    "# print(\"Image 1 shape:\", img.shape)\n",
    "# print(\"Image 2 shape:\", R.shape)\n",
    "# print(\"Image 3 shape:\", G.shape)\n",
    "# print(\"Image 4 shape:\", B.shape)\n",
    "\n",
    "# # Kết hợp các ảnh thành một cửa sổ\n",
    "# top_row = np.concatenate((img, B), axis=1)\n",
    "# bottom_row = np.concatenate((G, R), axis= 1)\n",
    "# combined_mg = np.concatenate((top_row, bottom_row), axist = 1)\n",
    "\n",
    "cv2.imshow(\"Anh Goc\", img)\n",
    "cv2.imshow(\"Anh R\", R)\n",
    "cv2.imshow(\"Anh G\", G)\n",
    "cv2.imshow(\"Anh B\", B)\n",
    "cv2.waitKey()\n",
    "cv2.destroyAllWindows()"
   ]
  }
 ],
 "metadata": {
  "kernelspec": {
   "display_name": "base",
   "language": "python",
   "name": "python3"
  },
  "language_info": {
   "codemirror_mode": {
    "name": "ipython",
    "version": 3
   },
   "file_extension": ".py",
   "mimetype": "text/x-python",
   "name": "python",
   "nbconvert_exporter": "python",
   "pygments_lexer": "ipython3",
   "version": "3.11.5"
  }
 },
 "nbformat": 4,
 "nbformat_minor": 2
}
