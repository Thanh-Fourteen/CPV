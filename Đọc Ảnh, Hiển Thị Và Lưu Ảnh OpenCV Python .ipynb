{
 "cells": [
  {
   "cell_type": "markdown",
   "metadata": {},
   "source": [
    "#### imdead: đọc ảnh \n",
    "cv2.imread(path, flag)\n",
    "\n",
    "path: đường truyền\n",
    "\n",
    "flag\n",
    "\n",
    "cv2.imread_color: flag = 1, max định\n",
    "\n",
    "cv2.imread_grayscale: flag = 0\n",
    "\n",
    "cv2.imread_unchanged: flag = -1"
   ]
  },
  {
   "cell_type": "markdown",
   "metadata": {},
   "source": [
    "#### imshow()\n",
    "\n",
    "Syntax: cv2,imshow(window_name, image)\n",
    "\n",
    "windown_name: a string representing the name of the window in which image to be displayed"
   ]
  },
  {
   "cell_type": "markdown",
   "metadata": {},
   "source": [
    "#### imwrite()\n",
    "\n",
    "Syntax: cv2.imwrite(filename, image)"
   ]
  },
  {
   "cell_type": "code",
   "execution_count": 1,
   "metadata": {},
   "outputs": [
    {
     "ename": "error",
     "evalue": "OpenCV(4.8.1) D:\\a\\opencv-python\\opencv-python\\opencv\\modules\\imgcodecs\\src\\loadsave.cpp:787: error: (-215:Assertion failed) !_img.empty() in function 'cv::imwrite'\n",
     "output_type": "error",
     "traceback": [
      "\u001b[1;31m---------------------------------------------------------------------------\u001b[0m",
      "\u001b[1;31merror\u001b[0m                                     Traceback (most recent call last)",
      "Cell \u001b[1;32mIn[1], line 12\u001b[0m\n\u001b[0;32m     10\u001b[0m \u001b[38;5;66;03m# change dir\u001b[39;00m\n\u001b[0;32m     11\u001b[0m os\u001b[38;5;241m.\u001b[39mchdir(path_new)\n\u001b[1;32m---> 12\u001b[0m cv2\u001b[38;5;241m.\u001b[39mimwrite(\u001b[38;5;124m\"\u001b[39m\u001b[38;5;124mTestImwite.png\u001b[39m\u001b[38;5;124m\"\u001b[39m, img)\n",
      "\u001b[1;31merror\u001b[0m: OpenCV(4.8.1) D:\\a\\opencv-python\\opencv-python\\opencv\\modules\\imgcodecs\\src\\loadsave.cpp:787: error: (-215:Assertion failed) !_img.empty() in function 'cv::imwrite'\n"
     ]
    }
   ],
   "source": [
    "import cv2\n",
    "import os\n",
    "path = r\"data\\testImread.jpeg\"\n",
    "\n",
    "img = cv2.imread(path)\n",
    "# cv2.imshow(\"Test anh\", img)\n",
    "# cv2.waitKey()\n",
    "\n",
    "path_new = r\"data\"\n",
    "# change dir\n",
    "os.chdir(path_new)\n",
    "cv2.imwrite(\"TestImwite.png\", img)\n",
    "\n"
   ]
  },
  {
   "cell_type": "code",
   "execution_count": null,
   "metadata": {},
   "outputs": [],
   "source": []
  }
 ],
 "metadata": {
  "kernelspec": {
   "display_name": "base",
   "language": "python",
   "name": "python3"
  },
  "language_info": {
   "codemirror_mode": {
    "name": "ipython",
    "version": 3
   },
   "file_extension": ".py",
   "mimetype": "text/x-python",
   "name": "python",
   "nbconvert_exporter": "python",
   "pygments_lexer": "ipython3",
   "version": "3.11.5"
  }
 },
 "nbformat": 4,
 "nbformat_minor": 2
}
