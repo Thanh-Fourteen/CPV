{
 "cells": [
  {
   "cell_type": "markdown",
   "metadata": {},
   "source": [
    "Truy cập ptu trong điểm ảnh: img[y, x]"
   ]
  },
  {
   "cell_type": "code",
   "execution_count": 1,
   "metadata": {},
   "outputs": [
    {
     "name": "stdout",
     "output_type": "stream",
     "text": [
      "[0 0 0]\n"
     ]
    }
   ],
   "source": [
    "import cv2\n",
    "\n",
    "path = r\"data\\RGB.png\"\n",
    "img = cv2.imread(path)\n",
    "img = cv2.resize(img, (600, 600))\n",
    "# cv2.imshow(\"Test\", img)\n",
    "\n",
    "px = img[100, 15]\n",
    "print(px)\n",
    "\n",
    "# cách tách màu khác\n",
    "b = img[:,:,0]\n",
    "cv2.imshow(\"Test b\", b)\n",
    "if cv2.waitKey(0) & 0xff == 27:\n",
    "    cv2.destroyAllWindows()"
   ]
  },
  {
   "cell_type": "code",
   "execution_count": 2,
   "metadata": {},
   "outputs": [],
   "source": [
    "# tách 3 màu\n",
    "b, g, r = cv2.split(img)"
   ]
  },
  {
   "cell_type": "markdown",
   "metadata": {},
   "source": [
    "### Vùng ảnh"
   ]
  },
  {
   "cell_type": "code",
   "execution_count": 7,
   "metadata": {},
   "outputs": [],
   "source": [
    "import cv2\n",
    "\n",
    "path = r\"data\\RGB.png\"\n",
    "img = cv2.imread(path)\n",
    "img = cv2.resize(img, (600, 600))\n",
    "a = img[200:500, 100:200]\n",
    "\n",
    "path2 = r\"data\\TestImwite.png\"\n",
    "img2 = cv2.imread(path2)\n",
    "img2 = cv2.resize(img2, (600, 600))\n",
    "img2[200:500, 100:200] = a\n",
    "\n",
    "cv2.imshow(\"Test b\", img2)\n",
    "if cv2.waitKey(0) & 0xff == 27:\n",
    "    cv2.destroyAllWindows()"
   ]
  },
  {
   "cell_type": "markdown",
   "metadata": {},
   "source": [
    "#### Truy cập thuốc tính\n",
    "shape: trả về touple bao gồm: hàng, cột, kênh màu\n",
    "\n",
    "size: tổng số hàng\n",
    "\n",
    "dtype: lấy kiểu của ảnh\n",
    "\n",
    "ndim: số kênh màu: 2 là ảnh xám (grayscale), 3 là RBG or BGR"
   ]
  },
  {
   "cell_type": "code",
   "execution_count": 10,
   "metadata": {},
   "outputs": [
    {
     "name": "stdout",
     "output_type": "stream",
     "text": [
      "(600, 600, 3)\n",
      "1080000\n",
      "uint8\n",
      "3\n"
     ]
    }
   ],
   "source": [
    "import cv2\n",
    "path2 = r\"data\\TestImwite.png\"\n",
    "print(img.shape)\n",
    "print(img.size)\n",
    "print(img.dtype)\n",
    "print(img.ndim)"
   ]
  }
 ],
 "metadata": {
  "kernelspec": {
   "display_name": "base",
   "language": "python",
   "name": "python3"
  },
  "language_info": {
   "codemirror_mode": {
    "name": "ipython",
    "version": 3
   },
   "file_extension": ".py",
   "mimetype": "text/x-python",
   "name": "python",
   "nbconvert_exporter": "python",
   "pygments_lexer": "ipython3",
   "version": "3.11.5"
  }
 },
 "nbformat": 4,
 "nbformat_minor": 2
}
