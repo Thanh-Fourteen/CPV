{
 "cells": [
  {
   "cell_type": "markdown",
   "metadata": {},
   "source": [
    "cv2.getAffineTransform: Tạo ma trận 2x3\n",
    "\n",
    "cv2.getwarpAffine: xác nhận tọa độ điểm mới"
   ]
  },
  {
   "cell_type": "code",
   "execution_count": 12,
   "metadata": {},
   "outputs": [],
   "source": [
    "import cv2\n",
    "import numpy as np\n",
    "\n",
    "img = cv2.imread(\"data\\picCats.jpg\")\n",
    "img = cv2.resize(img, (600, 300))\n",
    "\n",
    "rows, cols = img.shape[:2] # lấy hàng, cột\n",
    "\n",
    "input_mt = np.float32([[0,0], [cols -1, 0], [0, rows - 1]])\n",
    "output_mt = np.float32([[0,0], [cols/2, 0], [cols/2, rows - 1]])\n",
    "\n",
    "M = cv2.getAffineTransform(input_mt, output_mt)\n",
    "\n",
    "dst = cv2.warpAffine(img, M, (cols, rows))\n",
    "final = cv2.vconcat([img, dst])\n",
    "cv2.imshow(\"final\", final)\n",
    "cv2.waitKey(0)\n",
    "cv2.destroyAllWindows()\n"
   ]
  }
 ],
 "metadata": {
  "kernelspec": {
   "display_name": "base",
   "language": "python",
   "name": "python3"
  },
  "language_info": {
   "codemirror_mode": {
    "name": "ipython",
    "version": 3
   },
   "file_extension": ".py",
   "mimetype": "text/x-python",
   "name": "python",
   "nbconvert_exporter": "python",
   "pygments_lexer": "ipython3",
   "version": "3.11.5"
  }
 },
 "nbformat": 4,
 "nbformat_minor": 2
}
