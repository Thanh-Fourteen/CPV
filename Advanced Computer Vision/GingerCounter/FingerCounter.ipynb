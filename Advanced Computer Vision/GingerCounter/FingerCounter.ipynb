{
 "cells": [
  {
   "cell_type": "code",
   "execution_count": 1,
   "metadata": {},
   "outputs": [
    {
     "name": "stdout",
     "output_type": "stream",
     "text": [
      "WARNING:tensorflow:From c:\\ProgramData\\anaconda3\\Lib\\site-packages\\keras\\src\\losses.py:2976: The name tf.losses.sparse_softmax_cross_entropy is deprecated. Please use tf.compat.v1.losses.sparse_softmax_cross_entropy instead.\n",
      "\n"
     ]
    }
   ],
   "source": [
    "import cv2\n",
    "import mediapipe as mp\n",
    "import time\n",
    "import numpy as np\n",
    "import HandTrackingModule as htm\n",
    "import os\n",
    "\n",
    "##############################\n",
    "wCam, hCam = 640, 480\n",
    "##############################\n",
    "\n",
    "cap = cv2.VideoCapture(0)\n",
    "cap.set(cv2.CAP_PROP_FRAME_WIDTH, wCam * 2)\n",
    "cap.set(cv2.CAP_PROP_FRAME_HEIGHT, hCam * 2)\n",
    "pTime = 0\n",
    "\n",
    "folderPath = \"Fingers\"\n",
    "myList = os.listdir(folderPath)\n",
    "overlayList = []\n",
    "for imPath in myList:\n",
    "    image = cv2.imread(f\"{folderPath}/{imPath}\")\n",
    "    overlayList.append(image)\n",
    "\n",
    "detector = htm.handDetector(detectionCon= 0.75)\n",
    "tipIds = [4, 8, 12, 16, 20]\n",
    "\n",
    "while 1:\n",
    "    ret, img = cap.read()\n",
    "    if ret == False:\n",
    "        break\n",
    "    \n",
    "    img = detector.findHands(img)\n",
    "    lmList = detector.findPosition(img, draw= False)\n",
    "\n",
    "    if len(lmList) != 0:\n",
    "        fingers = []\n",
    "        if lmList[tipIds[0]][1] > lmList[tipIds[0] - 1][1]:\n",
    "            fingers.append(1)\n",
    "        else:\n",
    "            fingers.append(0)\n",
    "\n",
    "        for id in range(1, 5):\n",
    "            if lmList[tipIds[id]][2] < lmList[tipIds[id] - 2][2]:\n",
    "                fingers.append(1)\n",
    "            else:\n",
    "                fingers.append(0)\n",
    "        \n",
    "        # print(fingers)\n",
    "        totalFingerrs = fingers.count(1)\n",
    "        overlayList[totalFingerrs - 1] = cv2.resize(overlayList[totalFingerrs - 1], (200, 237))\n",
    "        img[0:237, 0:200] = overlayList[totalFingerrs - 1]\n",
    "\n",
    "    cTime = time.time()\n",
    "    fps = 1/(cTime - pTime)\n",
    "    pTime = cTime\n",
    "    cv2.putText(img, f\"FPS: {int(fps)}\",(400, 70),      \n",
    "                cv2.FONT_HERSHEY_PLAIN, 3, (250, 0, 0), 3)\n",
    "    \n",
    "    cv2.rectangle(img, (25, 245), (175, 445), (0, 255, 0),\n",
    "                  cv2.FILLED)\n",
    "    cv2.putText(img, str(totalFingerrs), (49, 395), cv2.FONT_HERSHEY_PLAIN,\n",
    "                10, (255, 0, 0), 25)\n",
    "\n",
    "    cv2.imshow(\"Finger Counting\", img)\n",
    "    if cv2.waitKey(1) == ord(\"q\"):\n",
    "        break\n",
    "\n",
    "cap.release()\n",
    "cv2.destroyAllWindows()"
   ]
  }
 ],
 "metadata": {
  "kernelspec": {
   "display_name": "base",
   "language": "python",
   "name": "python3"
  },
  "language_info": {
   "codemirror_mode": {
    "name": "ipython",
    "version": 3
   },
   "file_extension": ".py",
   "mimetype": "text/x-python",
   "name": "python",
   "nbconvert_exporter": "python",
   "pygments_lexer": "ipython3",
   "version": "3.11.5"
  }
 },
 "nbformat": 4,
 "nbformat_minor": 2
}
