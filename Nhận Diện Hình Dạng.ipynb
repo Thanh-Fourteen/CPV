{
 "cells": [
  {
   "cell_type": "markdown",
   "metadata": {},
   "source": [
    "cv2.findCountours(src, contour_retrieval, countours_approximation):\n",
    "\n",
    "1. src: img\n",
    "2. contour-retrieval: chế độ truy xuất\n",
    "- cv2.RETR_TREE: Retrieves all contours and reconstructs a full hierarchy of nested contours\n",
    "- cv2.RETR_EXTERNAL: Retrieves only the external contours.\n",
    "- cv2.RETR_LIST: Retrieves all contours without any hierarchical relationships\n",
    "- CV2.RETR_CCOMP: This mode retrieves all the contours and organizes them into a two-level hierarchy.\n",
    "3. contours_approximation: This parameter specifies the contour approximation method. It is used to approximate the contour shapes.\n",
    "- cv2.CHAIN_APPROX_NONE: Stores all the contour points.\n",
    "- cv2.CHAIN_APPROX_SIMPLE: Compresses horizontal, vertical, and diagonal segments and leaves only their end points."
   ]
  },
  {
   "cell_type": "markdown",
   "metadata": {},
   "source": [
    "cv2.drawCountours: sed to draw contours on an image.\n",
    "- image: The input image on which you want to draw the contours.\n",
    "- contours: The list of contours to be drawn on the image.\n",
    "- contourIdx: Indicates the index of the contour to draw. If it's negative (-1), all contours are drawn.\n",
    "- color: Color of the contours.\n",
    "- thickness: Thickness of the contour lines.\n",
    "- lineType: Type of line to be used for drawing, such as 8-connected or anti-aliased (optional, default is cv2.LINE_8).\n",
    "hierarchy: Optional parameter representing the hierarchy retrieved by findContours() "
   ]
  },
  {
   "cell_type": "markdown",
   "metadata": {},
   "source": [
    "cv2.approxPolyDP() is a function in OpenCV used for approximating a contour shape to another shape with fewer vertices. \n",
    "- curve: Input contour represented as a curve (a numpy array of shape Nx1x2, where N is the number of points).\n",
    "- epsilon: Parameter specifying the approximation accuracy. It is the maximum distance between the original curve and its approximation. = 0.01 * cv2.arclength(cnt, True)\n",
    "- closed: A boolean parameter indicating whether the approximated curve should be a closed contour (optional, default is True)."
   ]
  },
  {
   "cell_type": "code",
   "execution_count": 12,
   "metadata": {},
   "outputs": [],
   "source": [
    "import cv2\n",
    "import numpy as numpy\n",
    "frame = cv2.imread(\"data\\shape.png\")\n",
    "img = cv2.cvtColor(frame, cv2.COLOR_BGR2GRAY)\n",
    "\n",
    "_, threshold = cv2.threshold(img, 235, 255, cv2.THRESH_BINARY)\n",
    "\n",
    "font = cv2.FONT_HERSHEY_SCRIPT_SIMPLEX\n",
    "countours, _ = cv2.findContours(threshold, cv2.RETR_TREE, cv2.CHAIN_APPROX_SIMPLE)\n",
    "\n",
    "for cnt in countours:\n",
    "    approx = cv2.approxPolyDP(cnt, 0.01*cv2.arcLength(cnt, True), True)\n",
    "    cv2.drawContours(frame, [approx], -1, (0,255, 0), 3)\n",
    "    x = approx.ravel()[0]\n",
    "    y = approx.ravel()[1]\n",
    "\n",
    "    text = str(len(approx)) + \" Canh\"\n",
    "    cv2.putText(frame, text, (x,y), font, 0.5, (0, 0, 255), 1, cv2.LINE_AA)\n",
    "\n",
    "cv2.imshow(\"Frame\", frame)\n",
    "# cv2.imshow(\"test\", threshold)\n",
    "cv2.waitKey(0)\n",
    "cv2.destroyAllWindows()\n"
   ]
  }
 ],
 "metadata": {
  "kernelspec": {
   "display_name": "base",
   "language": "python",
   "name": "python3"
  },
  "language_info": {
   "codemirror_mode": {
    "name": "ipython",
    "version": 3
   },
   "file_extension": ".py",
   "mimetype": "text/x-python",
   "name": "python",
   "nbconvert_exporter": "python",
   "pygments_lexer": "ipython3",
   "version": "3.11.5"
  }
 },
 "nbformat": 4,
 "nbformat_minor": 2
}
