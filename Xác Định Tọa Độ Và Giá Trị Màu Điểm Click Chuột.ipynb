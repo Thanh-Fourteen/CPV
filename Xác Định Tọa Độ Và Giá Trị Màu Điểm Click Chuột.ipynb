{
 "cells": [
  {
   "cell_type": "code",
   "execution_count": 16,
   "metadata": {},
   "outputs": [],
   "source": [
    "import cv2\n",
    "\n",
    "def event(event, x, y, flags, param):\n",
    "    global img\n",
    "    font = cv2.FONT_HERSHEY_SIMPLEX\n",
    "    if event == cv2.EVENT_LBUTTONDOWN:\n",
    "        info = f'Coordinates: ({x}, {y})'\n",
    "        cv2.putText(img, info, (x, y), font, 0.6, (0, 255, 0), 1, cv2.LINE_AA)\n",
    "    elif event == cv2.EVENT_RBUTTONDOWN:\n",
    "        b, g, r = img[y, x]\n",
    "        color_info = f'Color: ({b}, {g}, {r})'\n",
    "        cv2.putText(img, color_info, (x, y + 20), font, 0.6, (255, 0, 0), 1, cv2.LINE_AA)\n",
    "    cv2.imshow(\"image\", img)\n",
    "\n",
    "if __name__ == \"__main__\":\n",
    "    img = cv2.imread(\"data/mouse.png\")\n",
    "    cv2.imshow(\"image\", img)\n",
    "    cv2.setMouseCallback(\"image\", event)\n",
    "    cv2.waitKey(0)\n",
    "    cv2.destroyAllWindows()\n"
   ]
  }
 ],
 "metadata": {
  "kernelspec": {
   "display_name": "base",
   "language": "python",
   "name": "python3"
  },
  "language_info": {
   "codemirror_mode": {
    "name": "ipython",
    "version": 3
   },
   "file_extension": ".py",
   "mimetype": "text/x-python",
   "name": "python",
   "nbconvert_exporter": "python",
   "pygments_lexer": "ipython3",
   "version": "3.11.5"
  }
 },
 "nbformat": 4,
 "nbformat_minor": 2
}
