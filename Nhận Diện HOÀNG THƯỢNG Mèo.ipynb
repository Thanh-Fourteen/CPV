{
 "cells": [
  {
   "cell_type": "markdown",
   "metadata": {},
   "source": [
    "https://github.com/opencv/opencv/tree/master/data/haarcascades"
   ]
  },
  {
   "cell_type": "code",
   "execution_count": 5,
   "metadata": {},
   "outputs": [
    {
     "data": {
      "text/plain": [
       "<function destroyAllWindows>"
      ]
     },
     "execution_count": 5,
     "metadata": {},
     "output_type": "execute_result"
    }
   ],
   "source": [
    "import cv2\n",
    "\n",
    "img = cv2.imread(\"data\\\\picCats.jpg\")\n",
    "# lấy train của ng ta\n",
    "meo_cascade = cv2.CascadeClassifier(\"data\\\\cat.xml\")\n",
    "\n",
    "meo_img = cv2.cvtColor(img, cv2.COLOR_BGR2GRAY)\n",
    "\n",
    "# cắt mặt con mèo ra\n",
    "moes = meo_cascade.detectMultiScale(meo_img)\n",
    "\n",
    "for (x, y, w, h) in moes:\n",
    "    img = cv2.rectangle(img, (x, y), (x+w, y+h), (0, 255, 0), 3)\n",
    "    cv2.putText(img, \"Hoang Thuong\",(x,y), cv2.FONT_HERSHEY_SCRIPT_SIMPLEX, 2,(255, 255, 255))\n",
    "\n",
    "cv2.imshow(\"meo\", img)\n",
    "cv2.waitKey(0)\n",
    "cv2.destroyAllWindows"
   ]
  }
 ],
 "metadata": {
  "kernelspec": {
   "display_name": "base",
   "language": "python",
   "name": "python3"
  },
  "language_info": {
   "codemirror_mode": {
    "name": "ipython",
    "version": 3
   },
   "file_extension": ".py",
   "mimetype": "text/x-python",
   "name": "python",
   "nbconvert_exporter": "python",
   "pygments_lexer": "ipython3",
   "version": "3.11.5"
  }
 },
 "nbformat": 4,
 "nbformat_minor": 2
}
