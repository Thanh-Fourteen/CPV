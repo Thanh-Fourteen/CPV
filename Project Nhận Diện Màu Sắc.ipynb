{
 "cells": [
  {
   "cell_type": "code",
   "execution_count": 4,
   "metadata": {},
   "outputs": [],
   "source": [
    "import cv2\n",
    "import numpy as np"
   ]
  },
  {
   "cell_type": "code",
   "execution_count": 16,
   "metadata": {},
   "outputs": [],
   "source": [
    "cap = cv2.VideoCapture(0)\n",
    "\n",
    "cap.set(cv2.CAP_PROP_FRAME_HEIGHT, 480)\n",
    "cap.set(cv2.CAP_PROP_FRAME_WIDTH, 640)\n",
    "\n",
    "while(1):\n",
    "    _, img_req = cap.read()\n",
    "    hsvFrame = cv2.cvtColor(img_req, cv2.COLOR_BGR2HSV)\n",
    "\n",
    "    blue_low = np.array([100,100,100 ], np.uint8)\n",
    "    blue_upper = np.array([140, 255,255], np.uint8)\n",
    "    # lấy gia trị trong khoảng blue_low tới blue_upper\n",
    "    blue_mask = cv2.inRange(hsvFrame, blue_low, blue_upper)\n",
    "\n",
    "    bit_blue = cv2.bitwise_and(img_req, img_req, mask = blue_mask)\n",
    "    contours, hierachy = cv2.findContours(blue_mask, cv2.RETR_TREE, cv2.CHAIN_APPROX_SIMPLE)\n",
    "    for pic, contour in enumerate(contours):\n",
    "        area = cv2.contourArea(contour)\n",
    "        if (area > 300):\n",
    "            x, y , w, h = cv2.boundingRect(contour)      \n",
    "            img_req = cv2.rectangle(img_req, (x, y), (x+w, y+h), (255, 0, 0), 2)\n",
    "    cv2.imshow(\"camera\", img_req)\n",
    "    # imgnp = np.array(bytearray(cap.read()[1]), dtype=np.uint8)\n",
    "    # imageFrame = cv2.imdecode(imgnp, - 1)\n",
    "\n",
    "    # cv2.imshow(\"Nhan dien mau\", imageFrame)\n",
    "    if cv2.waitKey(2) == ord('q'):\n",
    "        break\n",
    "\n",
    "cv2.destroyAllWindows()"
   ]
  },
  {
   "cell_type": "code",
   "execution_count": 15,
   "metadata": {},
   "outputs": [],
   "source": [
    "cap = cv2.VideoCapture(0)\n",
    "cap.set(cv2.CAP_PROP_FRAME_HEIGHT, 480)\n",
    "cap.set(cv2.CAP_PROP_FRAME_WIDTH, 640)\n",
    "\n",
    "while 1:\n",
    "    _, img = cap.read()\n",
    "    img_hsv = cv2.cvtColor(img, cv2.COLOR_BGR2HSV)\n",
    "\n",
    "    # red_low = np.array([93, 79, 2], np.uint8)\n",
    "    # red_upper = np.array([122, 255,255], np.uint8)\n",
    "    red_low = np.array([0, 100, 100], np.uint8)\n",
    "    red_upper = np.array([10, 255, 255], np.uint8)\n",
    "    red_mask = cv2.inRange(img_hsv, red_low, red_upper)\n",
    "\n",
    "    red_bit = cv2.bitwise_and(img, img, mask= red_mask)\n",
    "    # cv2.RETR_TREE: Đây là một trong các cờ (flags) để xác định cách tìm các contours\n",
    "    # cv2.CHAIN_APPROX_SIMPLE, contours được biểu diễn bằng cách lưu trữ chỉ các điểm đầu cuối của đoạn thẳng thay vì lưu tất cả các điểm trên contours.\n",
    "    contours, hierachy = cv2.findContours(red_mask, cv2.RETR_TREE, cv2.CHAIN_APPROX_SIMPLE)\n",
    "    for pic, contour in enumerate(contours):\n",
    "        area = cv2.contourArea(contour)\n",
    "        if (area > 300):\n",
    "            x, y, w, h = cv2.boundingRect(contour)\n",
    "            img = cv2.rectangle(img, (x,y), (x+w, y+h), (0, 255, 0), 2)\n",
    "\n",
    "    cv2.imshow(\"cam\", img)\n",
    "    if cv2.waitKey(1) & 0xff == ord('q'):\n",
    "        break\n",
    "\n",
    "cv2.destroyAllWindows()"
   ]
  }
 ],
 "metadata": {
  "kernelspec": {
   "display_name": "base",
   "language": "python",
   "name": "python3"
  },
  "language_info": {
   "codemirror_mode": {
    "name": "ipython",
    "version": 3
   },
   "file_extension": ".py",
   "mimetype": "text/x-python",
   "name": "python",
   "nbconvert_exporter": "python",
   "pygments_lexer": "ipython3",
   "version": "3.11.5"
  }
 },
 "nbformat": 4,
 "nbformat_minor": 2
}
