{
 "cells": [
  {
   "cell_type": "markdown",
   "metadata": {},
   "source": [
    "### AND\n",
    "\n",
    "Systax: cv2.bitwise_and(src1, src2, destination, mask)"
   ]
  },
  {
   "cell_type": "code",
   "execution_count": 4,
   "metadata": {},
   "outputs": [],
   "source": [
    "import cv2\n",
    "\n",
    "path1 = r\"data\\Bitwise1.png\"\n",
    "path2 = r\"data\\Bitwise2.png\"\n",
    "\n",
    "img1 = cv2.imread(path1)\n",
    "img2 = cv2.imread(path2)\n",
    "\n",
    "img1 = cv2.resize(img1, (600, 400))\n",
    "img2 = cv2.resize(img2, (600, 400))\n",
    "\n",
    "dest_and = cv2.bitwise_and(img1, img2, mask= None)\n",
    "\n",
    "cv2.imshow(\"picture 1\", img1)\n",
    "cv2.imshow(\"picture 2\", img2)\n",
    "cv2.imshow(\"picture and\", dest_and)\n",
    "\n",
    "# 0xff = 11111111 (8 số 1)\n",
    "if cv2.waitKey(0) & 0xff == 27: #27 esc\n",
    "    cv2.destroyAllWindows()"
   ]
  },
  {
   "cell_type": "markdown",
   "metadata": {},
   "source": [
    "### or\n",
    "\n",
    "Systax: cv2.bitwise_or(src1, src2, destination, mask)"
   ]
  },
  {
   "cell_type": "code",
   "execution_count": 5,
   "metadata": {},
   "outputs": [],
   "source": [
    "import cv2\n",
    "\n",
    "path1 = r\"data\\Bitwise1.png\"\n",
    "path2 = r\"data\\Bitwise2.png\"\n",
    "\n",
    "img1 = cv2.imread(path1)\n",
    "img2 = cv2.imread(path2)\n",
    "\n",
    "img1 = cv2.resize(img1, (600, 400))\n",
    "img2 = cv2.resize(img2, (600, 400))\n",
    "\n",
    "dest_and = cv2.bitwise_or(img1, img2, mask= None)\n",
    "\n",
    "cv2.imshow(\"picture 1\", img1)\n",
    "cv2.imshow(\"picture 2\", img2)\n",
    "cv2.imshow(\"picture or\", dest_and)\n",
    "\n",
    "# 0xff = 11111111 (8 số 1)\n",
    "if cv2.waitKey(0) & 0xff == 27: #27 esc\n",
    "    cv2.destroyAllWindows()"
   ]
  },
  {
   "cell_type": "markdown",
   "metadata": {},
   "source": [
    "### xor\n",
    "\n",
    "Systax: cv2.bitwise_xor(src1, src2, destination, mask)"
   ]
  },
  {
   "cell_type": "code",
   "execution_count": 6,
   "metadata": {},
   "outputs": [],
   "source": [
    "import cv2\n",
    "\n",
    "path1 = r\"data\\Bitwise1.png\"\n",
    "path2 = r\"data\\Bitwise2.png\"\n",
    "\n",
    "img1 = cv2.imread(path1)\n",
    "img2 = cv2.imread(path2)\n",
    "\n",
    "img1 = cv2.resize(img1, (600, 400))\n",
    "img2 = cv2.resize(img2, (600, 400))\n",
    "\n",
    "dest_and = cv2.bitwise_xor(img1, img2, mask= None)\n",
    "\n",
    "cv2.imshow(\"picture 1\", img1)\n",
    "cv2.imshow(\"picture 2\", img2)\n",
    "cv2.imshow(\"picture xor\", dest_and)\n",
    "\n",
    "# 0xff = 11111111 (8 số 1)\n",
    "if cv2.waitKey(0) & 0xff == 27: #27 esc\n",
    "    cv2.destroyAllWindows()"
   ]
  },
  {
   "cell_type": "markdown",
   "metadata": {},
   "source": [
    "### not"
   ]
  },
  {
   "cell_type": "code",
   "execution_count": 8,
   "metadata": {},
   "outputs": [],
   "source": [
    "import cv2\n",
    "\n",
    "path1 = r\"data\\Bitwise1.png\"\n",
    "path2 = r\"data\\Bitwise2.png\"\n",
    "\n",
    "img1 = cv2.imread(path1)\n",
    "# img2 = cv2.imread(path2)\n",
    "\n",
    "img1 = cv2.resize(img1, (600, 400))\n",
    "# img2 = cv2.resize(img2, (600, 400))\n",
    "\n",
    "dest_not = cv2.bitwise_not(img1, mask= None)\n",
    "\n",
    "cv2.imshow(\"picture 1\", img1)\n",
    "# cv2.imshow(\"picture 2\", img2)\n",
    "cv2.imshow(\"picture not\", dest_not)\n",
    "\n",
    "# 0xff = 11111111 (8 số 1)\n",
    "if cv2.waitKey(0) & 0xff == 27: #27 esc\n",
    "    cv2.destroyAllWindows()"
   ]
  }
 ],
 "metadata": {
  "kernelspec": {
   "display_name": "base",
   "language": "python",
   "name": "python3"
  },
  "language_info": {
   "codemirror_mode": {
    "name": "ipython",
    "version": 3
   },
   "file_extension": ".py",
   "mimetype": "text/x-python",
   "name": "python",
   "nbconvert_exporter": "python",
   "pygments_lexer": "ipython3",
   "version": "3.11.5"
  }
 },
 "nbformat": 4,
 "nbformat_minor": 2
}
