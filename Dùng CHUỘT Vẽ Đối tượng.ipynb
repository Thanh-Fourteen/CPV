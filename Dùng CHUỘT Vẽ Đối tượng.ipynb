{
 "cells": [
  {
   "cell_type": "markdown",
   "metadata": {},
   "source": [
    "### vẽ đối tượng\n",
    "\n",
    "setMouseCallback(winname, onMouse, userdata = 0)\n",
    "\n",
    "winname: name of the window\n",
    "\n",
    "oneMouse callback function for mouse events.\n",
    "\n",
    "userdata the optopnal parameter passed to the callback."
   ]
  },
  {
   "cell_type": "markdown",
   "metadata": {},
   "source": [
    "EVENT_MOUSEMOVE: di chuột\n",
    "\n",
    "EVENT_LBUTTONDOWN: nhấp chuột trái\n",
    "\n",
    "EVENT_MBUTTONDOWN: nhấp chuột giữa\n",
    "\n",
    "EVENT_RBUTTONDOWN: nhấp chuột phải\n",
    "\n",
    "EVENT_RBUTTONUP: trả chuột trái\n",
    "\n",
    "EVENT_LBUTTONUP, EVENT_MBUTTONUP\n",
    "\n",
    "EVENT_LBUTTONDBLICK: nhấp kép chuột trái\n",
    "\n",
    "EVENT_RBUTTONDBLICK, EVENT_MBUTTONDBLICK\n",
    "\n",
    "EVENT_MOUSEWHEEL: lăn chuột"
   ]
  },
  {
   "cell_type": "code",
   "execution_count": 1,
   "metadata": {},
   "outputs": [],
   "source": [
    "import cv2\n",
    "\n",
    "def drawCircle(event, x, y, flag, param):\n",
    "    if(event == cv2.EVENT_LBUTTONDOWN):\n",
    "        cv2.circle(img, (x,y), 10, (200, 200, 200), -1)\n",
    "\n",
    "img = cv2.imread(\"data\\\\TestImwite.png\")\n",
    "cv2.namedWindow(\"image\")\n",
    "cv2.setMouseCallback(\"image\", drawCircle)\n",
    "\n",
    "while(1):\n",
    "    cv2.imshow(\"image\", img)\n",
    "    if cv2.waitKey(20) & 0xff == 27:\n",
    "        break\n",
    "\n",
    "cv2.destroyAllWindows()"
   ]
  }
 ],
 "metadata": {
  "kernelspec": {
   "display_name": "base",
   "language": "python",
   "name": "python3"
  },
  "language_info": {
   "codemirror_mode": {
    "name": "ipython",
    "version": 3
   },
   "file_extension": ".py",
   "mimetype": "text/x-python",
   "name": "python",
   "nbconvert_exporter": "python",
   "pygments_lexer": "ipython3",
   "version": "3.11.5"
  }
 },
 "nbformat": 4,
 "nbformat_minor": 2
}
