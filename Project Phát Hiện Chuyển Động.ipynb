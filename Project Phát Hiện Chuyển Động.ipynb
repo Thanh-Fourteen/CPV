{
 "cells": [
  {
   "cell_type": "code",
   "execution_count": 6,
   "metadata": {},
   "outputs": [],
   "source": [
    "import cv2\n",
    "\n",
    "cap = cv2.VideoCapture(0)\n",
    "cap.set(cv2.CAP_PROP_FRAME_HEIGHT, 480)\n",
    "cap.set(cv2.CAP_PROP_FRAME_WIDTH, 640)\n",
    "\n",
    "# lấy background frame\n",
    "for i in range(10):\n",
    "    _, frame = cap.read()\n",
    "# frame = cv2.resize(frame, (640, 480))\n",
    "gray = cv2.cvtColor(frame, cv2.COLOR_BGR2GRAY)\n",
    "gray = cv2.GaussianBlur(gray, (25,25), 0)\n",
    "last_frame = gray\n",
    "\n",
    "while True:\n",
    "    _, frame = cap.read()\n",
    "\n",
    "    # xử lý\n",
    "    gray = cv2.cvtColor(frame, cv2.COLOR_BGR2GRAY)\n",
    "    gray = cv2.GaussianBlur(gray, (25,25), 0)\n",
    "    abs_img = cv2.absdiff(last_frame, gray)\n",
    "    last_frame = gray\n",
    "\n",
    "    # lọc nhiễu\n",
    "    _, img_mask = cv2.threshold(abs_img, 30, 255, cv2.THRESH_BINARY)\n",
    "    contours, _ = cv2.findContours(img_mask, cv2.RETR_EXTERNAL, cv2.CHAIN_APPROX_SIMPLE)\n",
    "    for contour in contours:\n",
    "        if cv2.contourArea(contour) < 900:\n",
    "            continue\n",
    "\n",
    "        x, y, w, h = cv2.boundingRect(contour)\n",
    "        cv2.rectangle(frame, (x,y), (x+w, y+h), (0, 255, 0), 3)\n",
    "\n",
    "    cv2.imshow(\"window\", frame)\n",
    "    # cv2.imshow(\"window\", img_mask)\n",
    "\n",
    "    if cv2.waitKey(1) == ord(\"q\"):\n",
    "        break\n",
    "\n",
    "cv2.destroyAllWindows()"
   ]
  }
 ],
 "metadata": {
  "kernelspec": {
   "display_name": "base",
   "language": "python",
   "name": "python3"
  },
  "language_info": {
   "codemirror_mode": {
    "name": "ipython",
    "version": 3
   },
   "file_extension": ".py",
   "mimetype": "text/x-python",
   "name": "python",
   "nbconvert_exporter": "python",
   "pygments_lexer": "ipython3",
   "version": "3.11.5"
  }
 },
 "nbformat": 4,
 "nbformat_minor": 2
}
