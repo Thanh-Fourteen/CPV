{
 "cells": [
  {
   "cell_type": "code",
   "execution_count": 13,
   "metadata": {},
   "outputs": [],
   "source": [
    "import cv2\n",
    "\n",
    "cap = cv2.VideoCapture(0)\n",
    "\n",
    "while 1:\n",
    "    ret, BG = cap.read()\n",
    "    cv2.imshow(\"BG\", BG)\n",
    "    if ret:\n",
    "        cv2.imshow(\"BG\", BG)\n",
    "        if cv2.waitKey(1) & 0xFF == ord(\"q\"):\n",
    "            cv2.imwrite(\"data/bg.jpg\", BG)\n",
    "            break\n",
    "\n",
    "cap.release()\n",
    "cv2.destroyAllWindows()"
   ]
  },
  {
   "cell_type": "code",
   "execution_count": 24,
   "metadata": {},
   "outputs": [],
   "source": [
    "import cv2\n",
    "import numpy as np\n",
    "\n",
    "cap = cv2.VideoCapture(0)\n",
    "BG = cv2.imread(\"data/bg.jpg\")\n",
    "\n",
    "while 1:\n",
    "    ret, frame = cap.read()\n",
    "    if ret:\n",
    "        hsv_frame = cv2.cvtColor(frame, cv2.COLOR_HSV2BGR)\n",
    "\n",
    "        low_red = np.array([0, 100, 100], np.uint8)\n",
    "        up_red = np.array([10, 255, 255], np.uint8)\n",
    "        mask1 = cv2.inRange(hsv_frame, low_red, up_red)\n",
    "\n",
    "        low_red = np.array([170, 100, 100], np.uint8)\n",
    "        up_red = np.array([180, 255, 255], np.uint8)\n",
    "        mask2 = cv2.inRange(hsv_frame, low_red, up_red)\n",
    "\n",
    "        mask = mask1 + mask2\n",
    "\n",
    "        mask = cv2.morphologyEx(mask, cv2.MORPH_OPEN, np.ones((3,3), np.uint8), iterations=2)\n",
    "        mask = cv2.dilate(mask, np.ones((3,3), np.uint8), iterations=1)\n",
    "\n",
    "        results1 = cv2.bitwise_and(BG, BG, mask=mask)\n",
    "        mask_tmp = cv2.bitwise_not(mask)\n",
    "        results2 = cv2.bitwise_and(frame, frame, mask= mask_tmp)\n",
    "\n",
    "        final = cv2.addWeighted(results1, 1, results2, 1, 0)\n",
    "\n",
    "        cv2.imshow(\"hide\",  final)\n",
    "        if cv2.waitKey(1) == ord(\"q\"):\n",
    "            break\n",
    "\n",
    "cap.release()\n",
    "cv2.destroyAllWindows()"
   ]
  }
 ],
 "metadata": {
  "kernelspec": {
   "display_name": "base",
   "language": "python",
   "name": "python3"
  },
  "language_info": {
   "codemirror_mode": {
    "name": "ipython",
    "version": 3
   },
   "file_extension": ".py",
   "mimetype": "text/x-python",
   "name": "python",
   "nbconvert_exporter": "python",
   "pygments_lexer": "ipython3",
   "version": "3.11.5"
  }
 },
 "nbformat": 4,
 "nbformat_minor": 2
}
