{
 "cells": [
  {
   "cell_type": "markdown",
   "metadata": {},
   "source": [
    "detectAndDecodeMulti(img, decoded_info, points, straight_qrcode): phát hiện và giải mã QR code"
   ]
  },
  {
   "cell_type": "code",
   "execution_count": 13,
   "metadata": {},
   "outputs": [],
   "source": [
    "import cv2\n",
    "\n",
    "qrc = cv2.QRCodeDetector()\n",
    "\n",
    "cap = cv2.VideoCapture('http://192.168.0.104:8080/video')\n",
    "cap.set(cv2.CAP_PROP_FRAME_WIDTH, 680)\n",
    "cap.set(cv2.CAP_PROP_FRAME_WIDTH, 480)\n",
    "\n",
    "while(1):\n",
    "    # ret: true or false\n",
    "    ret, frame = cap.read()\n",
    "    frame = cv2.resize(frame, (frame.shape[1]//2, frame.shape[0]//2))\n",
    "    if ret:\n",
    "        ret_qr, decoded_infor, points, _ = qrc.detectAndDecodeMulti(frame)\n",
    "        if ret_qr:\n",
    "            for s, p in zip(decoded_infor, points):\n",
    "                if s:\n",
    "                    cv2.putText(frame, s, (100,100), cv2.FONT_HERSHEY_SIMPLEX, 1, (0, 255, 0), 1, cv2.LINE_AA)\n",
    "                frame = cv2.polylines(frame, [p.astype(int)], True, (0, 0, 255), 8)\n",
    "        cv2.imshow(\"QR code\", frame)\n",
    "\n",
    "    if cv2.waitKey(1) & 0xFF == ord('q'):\n",
    "        break\n",
    "\n",
    "cv2.destroyAllWindows()"
   ]
  }
 ],
 "metadata": {
  "kernelspec": {
   "display_name": "base",
   "language": "python",
   "name": "python3"
  },
  "language_info": {
   "codemirror_mode": {
    "name": "ipython",
    "version": 3
   },
   "file_extension": ".py",
   "mimetype": "text/x-python",
   "name": "python",
   "nbconvert_exporter": "python",
   "pygments_lexer": "ipython3",
   "version": "3.11.5"
  }
 },
 "nbformat": 4,
 "nbformat_minor": 2
}
